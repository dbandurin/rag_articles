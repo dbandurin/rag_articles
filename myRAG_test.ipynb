{
 "cells": [
  {
   "cell_type": "code",
   "execution_count": null,
   "id": "faf6032f-050e-4b01-97c3-d4a0f608fbaa",
   "metadata": {},
   "outputs": [],
   "source": [
    "# Install\n",
    "# !pip install langchain chromadb anthropic pypdf sentence-transformers"
   ]
  },
  {
   "cell_type": "code",
   "execution_count": 1,
   "id": "5b7274ec-3d1b-47cc-bae8-9d786fa94e58",
   "metadata": {},
   "outputs": [],
   "source": [
    "from langchain.document_loaders import PyPDFDirectoryLoader\n",
    "from langchain.text_splitter import RecursiveCharacterTextSplitter\n",
    "from langchain.embeddings import HuggingFaceEmbeddings\n",
    "from langchain.vectorstores import Chroma, FAISS\n",
    "#from langchain.chat_models import ChatAnthropic\n",
    "from langchain_anthropic import ChatAnthropic\n",
    "from langchain.chains import RetrievalQA\n",
    "from langchain.prompts import PromptTemplate"
   ]
  },
  {
   "cell_type": "code",
   "execution_count": 12,
   "id": "ae5a7527-090b-405a-9bee-ee2dfb0997a8",
   "metadata": {},
   "outputs": [],
   "source": [
    "import warnings\n",
    "warnings.filterwarnings(\"ignore\")"
   ]
  },
  {
   "cell_type": "code",
   "execution_count": 13,
   "id": "01079db7-3bbf-4224-a228-389937d616b9",
   "metadata": {},
   "outputs": [
    {
     "data": {
      "text/plain": [
       "True"
      ]
     },
     "execution_count": 13,
     "metadata": {},
     "output_type": "execute_result"
    }
   ],
   "source": [
    "from dotenv import load_dotenv\n",
    "load_dotenv()"
   ]
  },
  {
   "cell_type": "code",
   "execution_count": 2,
   "id": "cd032117-4fcc-4bf0-a447-de515426341c",
   "metadata": {},
   "outputs": [
    {
     "data": {
      "text/plain": [
       "'0.3.27'"
      ]
     },
     "execution_count": 2,
     "metadata": {},
     "output_type": "execute_result"
    }
   ],
   "source": [
    "import langchain\n",
    "langchain.__version__"
   ]
  },
  {
   "cell_type": "markdown",
   "id": "593be62d-81cb-4e01-bbf9-a33b21d7de9e",
   "metadata": {},
   "source": [
    "## 1. Load all PDFs from folder"
   ]
  },
  {
   "cell_type": "code",
   "execution_count": 4,
   "id": "2d20fb92-d93f-4833-9c8d-028bc3a083b4",
   "metadata": {},
   "outputs": [],
   "source": [
    "loader = PyPDFDirectoryLoader(\"/Users/dmitry.bandurin/Dissertation/papers\")\n",
    "documents = loader.load()"
   ]
  },
  {
   "cell_type": "code",
   "execution_count": 5,
   "id": "e7a5fcbb-736a-4e5d-a108-0628d3aa6b57",
   "metadata": {},
   "outputs": [
    {
     "data": {
      "text/plain": [
       "Document(metadata={'producer': 'dvips + GPL Ghostscript GIT PRERELEASE 9.22', 'creator': 'LaTeX with hyperref package', 'creationdate': '2021-09-22T05:43:45-04:00', 'moddate': '2021-09-22T05:43:45-04:00', 'title': '', 'subject': '', 'author': '', 'keywords': '', 'source': '/Users/dmitry.bandurin/Dissertation/papers/Measurement of the photon+b-jet production differential cross section.pdf', 'total_pages': 11, 'page': 0, 'page_label': '1'}, page_content='arXiv:1203.5865v2  [hep-ex]  20 Dec 2012FERMILAB-PUB-12-082-E\\nMeasurement of the photon+ b-jet production diﬀerential cross section in p¯pcollisions\\nat√s= 1.96 TeV\\nV.M. Abazov,32B. Abbott,71B.S. Acharya,26M. Adams,47T. Adams,45G.D. Alexeev,32G. Alkhazov,36\\nA. Altona,59G. Alverson,58M. Aoki,46A. Askew,45S. Atkins,56K. Augsten,7C. Avila,5F. Badaud,10L. Bagby,46\\nB. Baldin,46D.V. Bandurin,45S. Banerjee,26E. Barberis,58P. Baringer,54J. Barreto,2J.F. Bartlett,46\\nN. Bartosik,39U. Bassler,15V. Bazterra,47A. Bean,54M. Begalli,2L. Bellantoni,46S.B. Beri,24G. Bernardi,14\\nR. Bernhard,19I. Bertram,40M. Besan¸ con,15R. Beuselinck,41V.A. Bezzubov,35P.C. Bhat,46S. Bhatia,61\\nV. Bhatnagar,24G. Blazey,48S. Blessing,45K. Bloom,62A. Boehnlein,46D. Boline,68E.E. Boos,34G. Borissov,40\\nT. Bose,57A. Brandt,74O. Brandt,20R. Brock,60G. Brooijmans,66A. Bross,46D. Brown,14J. Brown,14X.B. Bu,46\\nM. Buehler,46V. Buescher,21V. Bunichev,34S. Burdinb,40C.P. Buszello,38E. Camacho-P´ erez,29B.C.K. Casey,46\\nH. Castilla-Valdez,29S. Caughron,60S. Chakrabarti,68D. Chakraborty,48K.M. Chan,52A. Chandra,76\\nE. Chapon,15G. Chen,54S. Chevalier-Th´ ery,15D.K. Cho,73S.W. Cho,28S. Choi,28B. Choudhary,25S. Cihangir,46\\nD. Claes,62J. Clutter,54M. Cooke,46W.E. Cooper,46M. Corcoran,76F. Couderc,15M.-C. Cousinou,12A. Croc,15\\nD. Cutts,73A. Das,43G. Davies,41S.J. de Jong,30,31E. De La Cruz-Burelo,29F. D´ eliot,15R. Demina,67\\nD. Denisov,46S.P. Denisov,35S. Desai,46C. Deterre,15K. DeVaughan,62H.T. Diehl,46M. Diesburg,46P.F. Ding,42\\nA. Dominguez,62A. Dubey,25L.V. Dudko,34D. Duggan,63A. Duperrin,12S. Dutt,24A. Dyshkant,48M. Eads,62\\nD. Edmunds,60J. Ellison,44V.D. Elvira,46Y. Enari,14H. Evans,50A. Evdokimov,69V.N. Evdokimov,35G. Facini,58\\nL. Feng,48T. Ferbel,67F. Fiedler,21F. Filthaut,30,31W. Fisher,60H.E. Fisk,46M. Fortner,48H. Fox,40S. Fuess,46\\nA. Garcia-Bellido,67J.A. Garc´ ıa-Gonz´ alez,29G.A. Garc´ ıa-Guerrac,29V. Gavrilov,33P. Gay,10W. Geng,12,60\\nD. Gerbaudo,64C.E. Gerber,47Y. Gershtein,63G. Ginther,46,67G. Golovanov,32A. Goussiou,78P.D. Grannis,68\\nS. Greder,16H. Greenlee,46G. Grenier,17Ph. Gris,10J.-F. Grivaz,13A. Grohsjeand,15S. Gr¨ unendahl,46\\nM.W. Gr¨ unewald,27T. Guillemin,13G. Gutierrez,46P. Gutierrez,71A. Haase,66S. Hagopian,45J. Haley,58L. Han,4\\nK. Harder,42A. Harel,67J.M. Hauptman,53J. Hays,41T. Head,42T. Hebbeker,18D. Hedin,48H. Hegab,72\\nA.P. Heinson,44U. Heintz,73C. Hensel,20I. Heredia-De La Cruz,29K. Herner,59G. Heskethf,42M.D. Hildreth,52\\nR. Hirosky,77T. Hoang,45J.D. Hobbs,68B. Hoeneisen,9M. Hohlfeld,21I. Howley,74Z. Hubacek,7,15V. Hynek,7\\nI. Iashvili,65Y. Ilchenko,75R. Illingworth,46A.S. Ito,46S. Jabeen,73M. Jaﬀr´ e,13A. Jayasinghe,71R. Jesik,41\\nK. Johns,43E. Johnson,60M. Johnson,46A. Jonckheere,46P. Jonsson,41J. Joshi,44A.W. Jung,46A. Juste,37\\nK. Kaadze,55E. Kajfasz,12D. Karmanov,34P.A. Kasper,46I. Katsanos,62R. Kehoe,75S. Kermiche,12\\nN. Khalatyan,46A. Khanov,72A. Kharchilava,65Y.N. Kharzheev,32I. Kiselevich,33J.M. Kohli,24A.V. Kozelov,35\\nJ. Kraus,61S. Kulikov,35A. Kumar,65A. Kupco,8T. Kurˇ ca,17V.A. Kuzmin,34S. Lammers,50G. Landsberg,73\\nP. Lebrun,17H.S. Lee,28S.W. Lee,53W.M. Lee,46J. Lellouch,14H. Li,11L. Li,44Q.Z. Li,46J.K. Lim,28D. Lincoln,46\\nJ. Linnemann,60V.V. Lipaev,35R. Lipton,46H. Liu,75Y. Liu,4A. Lobodenko,36M. Lokajicek,8R. Lopes de Sa,68\\nH.J. Lubatti,78R. Luna-Garciag,29A.L. Lyon,46A.K.A. Maciel,1R. Madar,15R. Maga˜ na-Villalba,29S. Malik,62\\nV.L. Malyshev,32Y. Maravin,55J. Mart´ ınez-Ortega,29R. McCarthy,68C.L. McGivern,54M.M. Meijer,30,31\\nA. Melnitchouk,61D. Menezes,48P.G. Mercadante,3M. Merkin,34A. Meyer,18J. Meyer,20F. Miconi,16\\nN.K. Mondal,26M. Mulhearn,77E. Nagy,12M. Naimuddin,25M. Narain,73R. Nayyar,43H.A. Neal,59J.P. Negret,5\\nP. Neustroev,36T. Nunnemann,22G. Obrant‡,36J. Orduna,76N. Osman,12J. Osta,52M. Padilla,44A. Pal,74\\nN. Parashar,51V. Parihar,73S.K. Park,28R. Partridgee,73N. Parua,50A. Patwa,69B. Penning,46M. Perﬁlov,34\\nY. Peters,42K. Petridis,42G. Petrillo,67P. P´ etroﬀ,13M.-A. Pleier,69P.L.M. Podesta-Lermah,29V.M. Podstavkov,46\\nA.V. Popov,35M. Prewitt,76D. Price,50N. Prokopenko,35J. Qian,59A. Quadt,20B. Quinn,61M.S. Rangel,1\\nK. Ranjan,25P.N. Ratoﬀ,40I. Razumov,35P. Renkel,75I. Ripp-Baudot,16F. Rizatdinova,72M. Rominsky,46\\nA. Ross,40C. Royon,15P. Rubinov,46R. Ruchti,52G. Sajot,11P. Salcido,48A. S´ anchez-Hern´ andez,29\\nM.P. Sanders,22B. Sanghi,46A.S. Santosi,1G. Savage,46L. Sawyer,56T. Scanlon,41R.D. Schamberger,68\\nY. Scheglov,36H. Schellman,49S. Schlobohm,78C. Schwanenberger,42R. Schwienhorst,60J. Sekaric,54H. Severini,71\\nE. Shabalina,20V. Shary,15S. Shaw,60A.A. Shchukin,35R.K. Shivpuri,25V. Simak,7P. Skubic,71P. Slattery,67\\nD. Smirnov,52K.J. Smith,65G.R. Snow,62J. Snow,70S. Snyder,69S. S¨ oldner-Rembold,42L. Sonnenschein,18\\nK. Soustruznik,6J. Stark,11D.A. Stoyanova,35M. Strauss,71L. Stutte,46L. Suter,42P. Svoisky,71M. Takahashi,42\\nM. Titov,15V.V. Tokmenin,32Y.-T. Tsai,67K. Tschann-Grimm,68D. Tsybychev,68B. Tuchming,15C. Tully,64')"
      ]
     },
     "execution_count": 5,
     "metadata": {},
     "output_type": "execute_result"
    }
   ],
   "source": [
    "documents[0]"
   ]
  },
  {
   "cell_type": "markdown",
   "id": "f80966ea-6d70-479c-b453-a8c14689a261",
   "metadata": {},
   "source": [
    "## 2. Smart chunking for articles"
   ]
  },
  {
   "cell_type": "code",
   "execution_count": 6,
   "id": "e06cf052-1845-463e-a350-4b877718dd9c",
   "metadata": {},
   "outputs": [],
   "source": [
    "text_splitter = RecursiveCharacterTextSplitter(\n",
    "    chunk_size=1000,\n",
    "    chunk_overlap=200,\n",
    "    separators=[\"\\n\\n\", \"\\n\", \". \", \" \", \"\"]\n",
    ")\n",
    "chunks = text_splitter.split_documents(documents)"
   ]
  },
  {
   "cell_type": "code",
   "execution_count": 7,
   "id": "8be61e54-5d52-43bc-8b4a-4682e60a5745",
   "metadata": {},
   "outputs": [
    {
     "data": {
      "text/plain": [
       "Document(metadata={'producer': 'dvips + GPL Ghostscript GIT PRERELEASE 9.22', 'creator': 'LaTeX with hyperref package', 'creationdate': '2021-09-22T05:43:45-04:00', 'moddate': '2021-09-22T05:43:45-04:00', 'title': '', 'subject': '', 'author': '', 'keywords': '', 'source': '/Users/dmitry.bandurin/Dissertation/papers/Measurement of the photon+b-jet production differential cross section.pdf', 'total_pages': 11, 'page': 0, 'page_label': '1'}, page_content='arXiv:1203.5865v2  [hep-ex]  20 Dec 2012FERMILAB-PUB-12-082-E\\nMeasurement of the photon+ b-jet production diﬀerential cross section in p¯pcollisions\\nat√s= 1.96 TeV\\nV.M. Abazov,32B. Abbott,71B.S. Acharya,26M. Adams,47T. Adams,45G.D. Alexeev,32G. Alkhazov,36\\nA. Altona,59G. Alverson,58M. Aoki,46A. Askew,45S. Atkins,56K. Augsten,7C. Avila,5F. Badaud,10L. Bagby,46\\nB. Baldin,46D.V. Bandurin,45S. Banerjee,26E. Barberis,58P. Baringer,54J. Barreto,2J.F. Bartlett,46\\nN. Bartosik,39U. Bassler,15V. Bazterra,47A. Bean,54M. Begalli,2L. Bellantoni,46S.B. Beri,24G. Bernardi,14\\nR. Bernhard,19I. Bertram,40M. Besan¸ con,15R. Beuselinck,41V.A. Bezzubov,35P.C. Bhat,46S. Bhatia,61\\nV. Bhatnagar,24G. Blazey,48S. Blessing,45K. Bloom,62A. Boehnlein,46D. Boline,68E.E. Boos,34G. Borissov,40\\nT. Bose,57A. Brandt,74O. Brandt,20R. Brock,60G. Brooijmans,66A. Bross,46D. Brown,14J. Brown,14X.B. Bu,46\\nM. Buehler,46V. Buescher,21V. Bunichev,34S. Burdinb,40C.P. Buszello,38E. Camacho-P´ erez,29B.C.K. Casey,46')"
      ]
     },
     "execution_count": 7,
     "metadata": {},
     "output_type": "execute_result"
    }
   ],
   "source": [
    "chunks[0]"
   ]
  },
  {
   "cell_type": "code",
   "execution_count": 3,
   "id": "cb35921b-c182-49fd-b005-7abd56df5e74",
   "metadata": {},
   "outputs": [
    {
     "name": "stderr",
     "output_type": "stream",
     "text": [
      "/var/folders/4t/35srr7b93yv4907jj2xsgpzc0000gn/T/ipykernel_46246/2624602784.py:2: LangChainDeprecationWarning: The class `HuggingFaceEmbeddings` was deprecated in LangChain 0.2.2 and will be removed in 1.0. An updated version of the class exists in the :class:`~langchain-huggingface package and should be used instead. To use it run `pip install -U :class:`~langchain-huggingface` and import as `from :class:`~langchain_huggingface import HuggingFaceEmbeddings``.\n",
      "  embeddings = HuggingFaceEmbeddings(\n",
      "/Users/dmitry.bandurin/.pyenv/versions/langchain/lib/python3.10/site-packages/torchvision/io/image.py:13: UserWarning: Failed to load image Python extension: 'dlopen(/Users/dmitry.bandurin/.pyenv/versions/3.10.9/envs/langchain/lib/python3.10/site-packages/torchvision/image.so, 6): Symbol not found: __ZN3c1017RegisterOperatorsD1Ev\n",
      "  Referenced from: /Users/dmitry.bandurin/.pyenv/versions/3.10.9/envs/langchain/lib/python3.10/site-packages/torchvision/image.so\n",
      "  Expected in: /Users/dmitry.bandurin/.pyenv/versions/langchain/lib/python3.10/site-packages/torch/lib/libtorch_cpu.dylib\n",
      " in /Users/dmitry.bandurin/.pyenv/versions/3.10.9/envs/langchain/lib/python3.10/site-packages/torchvision/image.so'If you don't plan on using image functionality from `torchvision.io`, you can ignore this warning. Otherwise, there might be something wrong with your environment. Did you have `libjpeg` or `libpng` installed before building `torchvision` from source?\n",
      "  warn(\n",
      "/Users/dmitry.bandurin/.pyenv/versions/langchain/lib/python3.10/site-packages/bitsandbytes/cextension.py:34: UserWarning: The installed version of bitsandbytes was compiled without GPU support. 8-bit optimizers, 8-bit multiplication, and GPU quantization are unavailable.\n",
      "  warn(\"The installed version of bitsandbytes was compiled without GPU support. \"\n"
     ]
    },
    {
     "name": "stdout",
     "output_type": "stream",
     "text": [
      "'NoneType' object has no attribute 'cadam32bit_grad_fp32'\n"
     ]
    },
    {
     "data": {
      "application/vnd.jupyter.widget-view+json": {
       "model_id": "11ed74f1031042cb85010a43acaae038",
       "version_major": 2,
       "version_minor": 0
      },
      "text/plain": [
       "modules.json:   0%|          | 0.00/349 [00:00<?, ?B/s]"
      ]
     },
     "metadata": {},
     "output_type": "display_data"
    },
    {
     "data": {
      "application/vnd.jupyter.widget-view+json": {
       "model_id": "59f42bc1b5414e1f815e39da673a7757",
       "version_major": 2,
       "version_minor": 0
      },
      "text/plain": [
       "config_sentence_transformers.json:   0%|          | 0.00/116 [00:00<?, ?B/s]"
      ]
     },
     "metadata": {},
     "output_type": "display_data"
    },
    {
     "data": {
      "application/vnd.jupyter.widget-view+json": {
       "model_id": "6428e81558794822bc0fe6d0a4259a52",
       "version_major": 2,
       "version_minor": 0
      },
      "text/plain": [
       "README.md: 0.00B [00:00, ?B/s]"
      ]
     },
     "metadata": {},
     "output_type": "display_data"
    },
    {
     "data": {
      "application/vnd.jupyter.widget-view+json": {
       "model_id": "28d62cddc5d644e29a35da331e080e20",
       "version_major": 2,
       "version_minor": 0
      },
      "text/plain": [
       "sentence_bert_config.json:   0%|          | 0.00/53.0 [00:00<?, ?B/s]"
      ]
     },
     "metadata": {},
     "output_type": "display_data"
    },
    {
     "data": {
      "application/vnd.jupyter.widget-view+json": {
       "model_id": "590c969a8746435da718d93604fb15d7",
       "version_major": 2,
       "version_minor": 0
      },
      "text/plain": [
       "config.json:   0%|          | 0.00/612 [00:00<?, ?B/s]"
      ]
     },
     "metadata": {},
     "output_type": "display_data"
    },
    {
     "data": {
      "application/vnd.jupyter.widget-view+json": {
       "model_id": "6673354f51ff4f149488f9b57b7f6ee3",
       "version_major": 2,
       "version_minor": 0
      },
      "text/plain": [
       "model.safetensors:   0%|          | 0.00/90.9M [00:00<?, ?B/s]"
      ]
     },
     "metadata": {},
     "output_type": "display_data"
    },
    {
     "data": {
      "application/vnd.jupyter.widget-view+json": {
       "model_id": "e771e5633f654b6b8bfc76f20c8c9396",
       "version_major": 2,
       "version_minor": 0
      },
      "text/plain": [
       "tokenizer_config.json:   0%|          | 0.00/350 [00:00<?, ?B/s]"
      ]
     },
     "metadata": {},
     "output_type": "display_data"
    },
    {
     "data": {
      "application/vnd.jupyter.widget-view+json": {
       "model_id": "6f44ab3cfb7d4cb98ed9a6bb3a7d6870",
       "version_major": 2,
       "version_minor": 0
      },
      "text/plain": [
       "vocab.txt: 0.00B [00:00, ?B/s]"
      ]
     },
     "metadata": {},
     "output_type": "display_data"
    },
    {
     "data": {
      "application/vnd.jupyter.widget-view+json": {
       "model_id": "65beba2552054e09bafbfd0741756aad",
       "version_major": 2,
       "version_minor": 0
      },
      "text/plain": [
       "tokenizer.json: 0.00B [00:00, ?B/s]"
      ]
     },
     "metadata": {},
     "output_type": "display_data"
    },
    {
     "data": {
      "application/vnd.jupyter.widget-view+json": {
       "model_id": "6f617b21ce024454a60504f4b1324069",
       "version_major": 2,
       "version_minor": 0
      },
      "text/plain": [
       "special_tokens_map.json:   0%|          | 0.00/112 [00:00<?, ?B/s]"
      ]
     },
     "metadata": {},
     "output_type": "display_data"
    },
    {
     "data": {
      "application/vnd.jupyter.widget-view+json": {
       "model_id": "48d66b3c91494d2992c2b1a4a012481f",
       "version_major": 2,
       "version_minor": 0
      },
      "text/plain": [
       "config.json:   0%|          | 0.00/190 [00:00<?, ?B/s]"
      ]
     },
     "metadata": {},
     "output_type": "display_data"
    }
   ],
   "source": [
    "# 3. Create embeddings (local, free)\n",
    "embeddings = HuggingFaceEmbeddings(\n",
    "    model_name=\"sentence-transformers/all-MiniLM-L6-v2\"\n",
    ")"
   ]
  },
  {
   "cell_type": "markdown",
   "id": "823d8ed5-e732-442d-a07a-8662738fa9b4",
   "metadata": {},
   "source": [
    "## 4. Store in FAISS"
   ]
  },
  {
   "cell_type": "code",
   "execution_count": 8,
   "id": "50fd9334-4ad9-4138-b710-06650c7d5c2f",
   "metadata": {},
   "outputs": [],
   "source": [
    "vectorstore = FAISS.from_documents(chunks, embeddings)"
   ]
  },
  {
   "cell_type": "code",
   "execution_count": 9,
   "id": "160dc6b9-e3c4-43df-90bd-4e6fb7aac4d1",
   "metadata": {},
   "outputs": [
    {
     "name": "stdout",
     "output_type": "stream",
     "text": [
      "💿 Saving to ./FAISS_storage/faiss_articles_db...\n"
     ]
    }
   ],
   "source": [
    "save_path=\"./FAISS_storage/faiss_articles_db\"\n",
    "print(f\"💿 Saving to {save_path}...\")\n",
    "vectorstore.save_local(save_path)"
   ]
  },
  {
   "cell_type": "code",
   "execution_count": 15,
   "id": "4659ee34-fcab-4114-9057-45c9e8a61145",
   "metadata": {},
   "outputs": [],
   "source": [
    "# 5. Set up Claude\n",
    "from langchain_anthropic import ChatAnthropic\n",
    "\n",
    "llm = ChatAnthropic(model=\"claude-sonnet-4-5-20250929\",\n",
    "                   temperature=0)"
   ]
  },
  {
   "cell_type": "code",
   "execution_count": 16,
   "id": "23df9f60-6e12-40dd-ab6e-c9def946d6e7",
   "metadata": {},
   "outputs": [],
   "source": [
    "# 6. Custom prompt for your articles\n",
    "prompt_template = \"\"\"You are having a conversation about articles written by the user.\n",
    "Use the following context from their articles to answer the question.\n",
    "If you're not sure, say so. Always mention which article(s) you're referencing.\n",
    "\n",
    "Context:\n",
    "{context}\n",
    "\n",
    "Question: {question}\n",
    "\n",
    "Answer:\"\"\"\n",
    "\n",
    "PROMPT = PromptTemplate(\n",
    "    template=prompt_template, input_variables=[\"context\", \"question\"]\n",
    ")"
   ]
  },
  {
   "cell_type": "code",
   "execution_count": 17,
   "id": "066dc669-8f16-4ea0-8a12-faebfd842ee5",
   "metadata": {},
   "outputs": [],
   "source": [
    "# 7. Create QA chain\n",
    "qa_chain = RetrievalQA.from_chain_type(\n",
    "    llm=llm,\n",
    "    chain_type=\"stuff\",\n",
    "    retriever=vectorstore.as_retriever(search_kwargs={\"k\": 4}),\n",
    "    chain_type_kwargs={\"prompt\": PROMPT},\n",
    "    return_source_documents=True\n",
    ")"
   ]
  },
  {
   "cell_type": "code",
   "execution_count": 18,
   "id": "31e5eb8c-5c63-4833-892d-14dbd552efaa",
   "metadata": {},
   "outputs": [
    {
     "name": "stdout",
     "output_type": "stream",
     "text": [
      "Based on the articles you've shared, you wrote about using **Artificial Neural Networks (ANNs)** for particle physics classification. Here are the key points from your article:\n",
      "\n",
      "**Network Architecture:**\n",
      "- You used an 11-5-1 architecture (11 input nodes, 5 hidden layer nodes, 1 output node)\n",
      "- This resulted in 66 independent parameters (Nind = 66)\n",
      "\n",
      "**Training Process:**\n",
      "- The network was trained to distinguish signal events (single photons) from background events (π⁰, η, K⁰s mesons)\n",
      "- Training used target values of 1 for signal and 0 for background\n",
      "- Weights were initialized randomly and updated by minimizing mean squared error\n",
      "- The network became stable around epoch 180-200\n",
      "\n",
      "**Output Interpretation:**\n",
      "- The network output can be interpreted as a probability (0 to 1)\n",
      "- Values close to 1 indicate likely signal events\n",
      "- Values close to 0 indicate likely background events\n",
      "- You used a \"0.5-criterion\" threshold for classification\n",
      "\n",
      "**Performance:**\n",
      "- You tested the network on different particle types at various energy levels (Et = 20, 40, 60, 100 GeV)\n",
      "- The separation between signal and background improved with higher energy levels\n",
      "\n",
      "You also referenced using **JETNET 3.5** software package for the neural network implementation.\n",
      "\n",
      "This appears to be from a particle physics research article focused on particle identification using machine learning techniques.\n",
      "\n",
      "Sources: [{'producer': 'GPL Ghostscript GIT PRERELEASE 9.22', 'creator': 'dvips(k) 5.86 Copyright 1999 Radical Eye Software', 'creationdate': '2021-03-23T14:33:04-04:00', 'moddate': '2021-03-23T14:33:04-04:00', 'title': 'arXiv:hep-ex/0108051v4  2 Jan 2002', 'source': '/Users/dmitry.bandurin/Dissertation/papers/Separation of a single photon and products of the pi0 eta, K0(S) meson neutral decay channels in the CMS.pdf', 'total_pages': 17, 'page': 3, 'page_label': '4'}, {'producer': 'GPL Ghostscript GIT PRERELEASE 9.22', 'creator': 'dvips(k) 5.86 Copyright 1999 Radical Eye Software', 'creationdate': '2021-03-23T14:33:04-04:00', 'moddate': '2021-03-23T14:33:04-04:00', 'title': 'arXiv:hep-ex/0108051v4  2 Jan 2002', 'source': '/Users/dmitry.bandurin/Dissertation/papers/Separation of a single photon and products of the pi0 eta, K0(S) meson neutral decay channels in the CMS.pdf', 'total_pages': 17, 'page': 5, 'page_label': '6'}, {'producer': 'dvips + GPL Ghostscript GIT PRERELEASE 9.22', 'creator': 'LaTeX with hyperref package', 'creationdate': '2018-08-15T17:36:06-04:00', 'moddate': '2018-08-15T17:36:06-04:00', 'title': '', 'subject': '', 'author': '', 'keywords': '', 'source': '/Users/dmitry.bandurin/Dissertation/papers/Electron and Photon Identification in the D0 experiment.pdf', 'total_pages': 23, 'page': 21, 'page_label': '22'}, {'producer': 'GPL Ghostscript GIT PRERELEASE 9.22', 'creator': 'dvips(k) 5.86 Copyright 1999 Radical Eye Software', 'creationdate': '2021-03-23T14:33:04-04:00', 'moddate': '2021-03-23T14:33:04-04:00', 'title': 'arXiv:hep-ex/0108051v4  2 Jan 2002', 'source': '/Users/dmitry.bandurin/Dissertation/papers/Separation of a single photon and products of the pi0 eta, K0(S) meson neutral decay channels in the CMS.pdf', 'total_pages': 17, 'page': 4, 'page_label': '5'}]\n"
     ]
    }
   ],
   "source": [
    "# 8. Query!\n",
    "result = qa_chain({\"query\": \"What did I write about machine learning?\"})\n",
    "print(result['result'])\n",
    "print(\"\\nSources:\", [doc.metadata for doc in result['source_documents']])"
   ]
  },
  {
   "cell_type": "code",
   "execution_count": 19,
   "id": "07b171f6-a966-4b7c-8491-5f151c575479",
   "metadata": {},
   "outputs": [
    {
     "name": "stdout",
     "output_type": "stream",
     "text": [
      "I don't see any measurements of photon+3 jet final states in the articles you've provided.\n",
      "\n",
      "The two articles I can reference are:\n",
      "\n",
      "1. **arXiv:1308.2708v1** - \"Measurement of the differential cross section of photon plus jet production in p¯p collisions at √s = 1.96 TeV\"\n",
      "\n",
      "2. **arXiv:1203.5865v2** - \"Measurement of the photon+b-jet production differential cross section in p¯p collisions at √s = 1.96 TeV\"\n",
      "\n",
      "Both of these articles focus on **photon + 1 jet** final states (or specifically photon + b-jet in the second case), not photon + 3 jets. The first article measures differential cross sections as a function of photon transverse momentum for different angular configurations of the leading photon and leading jet.\n",
      "\n",
      "If you have written an article about photon+3 jet measurements, it's not included in the context provided to me.\n",
      "\n",
      "Sources: [{'producer': 'dvips + GPL Ghostscript GIT PRERELEASE 9.22', 'creator': 'LaTeX with hyperref package', 'creationdate': '2021-11-24T16:10:18-05:00', 'moddate': '2021-11-24T16:10:18-05:00', 'title': '', 'subject': '', 'author': '', 'keywords': '', 'source': '/Users/dmitry.bandurin/Dissertation/papers/Measurement of the differential cross section of photon plus jet production.pdf', 'total_pages': 22, 'page': 0, 'page_label': '1'}, {'producer': 'dvips + GPL Ghostscript GIT PRERELEASE 9.22', 'creator': 'LaTeX with hyperref package', 'creationdate': '2021-09-22T05:43:45-04:00', 'moddate': '2021-09-22T05:43:45-04:00', 'title': '', 'subject': '', 'author': '', 'keywords': '', 'source': '/Users/dmitry.bandurin/Dissertation/papers/Measurement of the photon+b-jet production differential cross section.pdf', 'total_pages': 11, 'page': 0, 'page_label': '1'}, {'producer': 'dvips + GPL Ghostscript GIT PRERELEASE 9.22', 'creator': 'LaTeX with hyperref package', 'creationdate': '2021-11-24T16:10:18-05:00', 'moddate': '2021-11-24T16:10:18-05:00', 'title': '', 'subject': '', 'author': '', 'keywords': '', 'source': '/Users/dmitry.bandurin/Dissertation/papers/Measurement of the differential cross section of photon plus jet production.pdf', 'total_pages': 22, 'page': 3, 'page_label': '4'}, {'producer': 'dvips + GPL Ghostscript GIT PRERELEASE 9.22', 'creator': 'LaTeX with hyperref package', 'creationdate': '2018-10-25T02:55:23-04:00', 'moddate': '2018-10-25T02:55:23-04:00', 'title': '', 'subject': '', 'author': '', 'keywords': '', 'source': '/Users/dmitry.bandurin/Dissertation/papers/Measurement of the differential cross section for the production of an isolated photon with associated jet.pdf', 'total_pages': 13, 'page': 3, 'page_label': '4'}]\n"
     ]
    }
   ],
   "source": [
    "result = qa_chain({\"query\": \"what values of effective cross section I have measured in photon+3 jet final state?\"})\n",
    "print(result['result'])\n",
    "print(\"\\nSources:\", [doc.metadata for doc in result['source_documents']])"
   ]
  },
  {
   "cell_type": "code",
   "execution_count": null,
   "id": "9b556a7c-d632-4da6-8295-dd9fb56f8be3",
   "metadata": {},
   "outputs": [],
   "source": []
  }
 ],
 "metadata": {
  "kernelspec": {
   "display_name": "langchain",
   "language": "python",
   "name": "langchain"
  },
  "language_info": {
   "codemirror_mode": {
    "name": "ipython",
    "version": 3
   },
   "file_extension": ".py",
   "mimetype": "text/x-python",
   "name": "python",
   "nbconvert_exporter": "python",
   "pygments_lexer": "ipython3",
   "version": "3.10.9"
  }
 },
 "nbformat": 4,
 "nbformat_minor": 5
}
