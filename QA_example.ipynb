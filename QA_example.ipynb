{
 "cells": [
  {
   "cell_type": "code",
   "execution_count": 5,
   "id": "99254df6-0cd4-47e8-b13c-a3bbce522b02",
   "metadata": {},
   "outputs": [],
   "source": [
    "from rag_articles import create_vector_store, load_vector_store, create_qa_chain, query_articles\n",
    "import warnings\n",
    "warnings.filterwarnings(\"ignore\")"
   ]
  },
  {
   "cell_type": "code",
   "execution_count": 6,
   "id": "836d2f2d-d8ab-4395-aa84-d03377203b62",
   "metadata": {},
   "outputs": [
    {
     "name": "stdout",
     "output_type": "stream",
     "text": [
      "📂 Loading existing vector store...\n",
      "   ✓ Vector store loaded successfully!\n",
      "\n"
     ]
    }
   ],
   "source": [
    "# Load vector store\n",
    "vectorstore = load_vector_store(\"../FAISS_storage/faiss_articles_db\")"
   ]
  },
  {
   "cell_type": "code",
   "execution_count": 7,
   "id": "bf7b3296-28a5-432a-b1b1-3319be651fb0",
   "metadata": {},
   "outputs": [
    {
     "name": "stdout",
     "output_type": "stream",
     "text": [
      "🤖 Setting up Claude Sonnet 4.5...\n",
      "   ✓ QA chain configured (retrieving top 4 chunks)\n",
      "\n"
     ]
    }
   ],
   "source": [
    "# Create QA chain\n",
    "qa_chain = create_qa_chain(vectorstore)"
   ]
  },
  {
   "cell_type": "code",
   "execution_count": 9,
   "id": "45a12d9e-b7bf-4c42-a81b-0e7315ed0932",
   "metadata": {},
   "outputs": [
    {
     "name": "stdout",
     "output_type": "stream",
     "text": [
      "Based on the context provided, I can identify the following article titles from your work:\n",
      "\n",
      "1. **Double parton interactions in γ+3 jet events in p̄p collisions at √s = 1.96 TeV** (FERMILAB-PUB-09-644-E, published in Phys. Rev. D 81, 052012 (2010))\n",
      "\n",
      "2. **Azimuthal decorrelations and multiple parton interactions in γ+2 jet and γ+3 jet events in p̄p collisions at √s = 1.96 TeV** (FERMILAB-PUB-11-007-E)\n",
      "\n",
      "These appear to be the main articles authored by you (as part of the D0 Collaboration) that are present in the provided context. Both articles focus on studying multiple parton interactions using photon plus jet events at the Tevatron collider.\n",
      "Sources: ['Photon+jet process application for setting the absolute scale of jet energy and determining the gluon distribution at the Tevatron.pdf', 'DP in photon+3jet and photon+HF+2jet events in ppbar collisions.pdf', 'Double parton interactions as a background to associated HW.pdf', 'Azimuthal decorrelations and multiple parton interactions in photon+2-3 jet events.pdf', 'Double parton interactions in γ+3 jet events.pdf', 'Study of double parton interactions in diphoton + dijet events in ppbar collisions.pdf', 'REVIEW OF PHYSICS RESULTS FROM THE TEVATRON: QCD PHYSICS.pdf']\n"
     ]
    }
   ],
   "source": [
    "result = query_articles(qa_chain, '''List all titles of my articles . \n",
    "For instance 'Double parton interactions in γ+3 jet events in pp ̄ collisions at √s = 1.96 TeV'\n",
    "''')\n",
    "\n",
    "print(result['answer'])\n",
    "print(f\"Sources: {result['sources']}\")"
   ]
  },
  {
   "cell_type": "code",
   "execution_count": 11,
   "id": "9491f94d-99d7-48e7-a89c-abf740cf00c3",
   "metadata": {},
   "outputs": [
    {
     "name": "stdout",
     "output_type": "stream",
     "text": [
      "Based on the context provided, I can identify the following article titles related to photon + b and/or c jet production:\n",
      "\n",
      "1. **\"Measurement of the photon+ b-jet production differential cross section in p¯p collisions at √s= 1.96 TeV\"** (FERMILAB-PUB-12-082-E, arXiv:1203.5865v2)\n",
      "\n",
      "2. An article that includes **measurements of differential cross sections for γ+2b-jets production** (appears to be from around May 15, 2014, based on the date stamp). The full title mentions: \"the first measurements of the differential cross section dσ/dp^γ_T for the production of an isolated photon in association with at least two b-quark jets.\"\n",
      "\n",
      "The context also references section **4.3. \"Photon + heavy flavor jet production\"** which discusses both γ+b-jet and γ+c-jet productions, but this appears to be a section within a larger review or report rather than a standalone article title.\n",
      "\n",
      "Additionally, there are references to studies on photon+jet production more generally (like **\"Measurement of the differential cross section of photon plus jet production in p¯p collisions at √s= 1.96 TeV\"** - FERMILAB-PUB-13-317-E, arXiv:1308.2708v1), though this focuses on inclusive photon+jet rather than specifically heavy flavor jets.\n",
      "Sources: ['Photon+jet process application for setting the absolute scale of jet energy and determining the gluon distribution at the Tevatron.pdf', 'REVIEW OF PHYSICS RESULTS FROM THE TEVATRON_list.pdf', 'DP in photon+3jet and photon+HF+2jet events in ppbar collisions.pdf', 'Measurement of the differential photon+2 b-jet cross section.pdf', 'Measurement of photon+b+X and photon+c+X production cross sections.pdf', 'Measurement of the differential cross section of photon plus jet production.pdf', 'Measurement of the photon+b-jet production differential cross section.pdf', 'REVIEW OF PHYSICS RESULTS FROM THE TEVATRON: QCD PHYSICS.pdf', 'Measurement of the differential cross section for the production of an isolated photon with associated jet.pdf']\n"
     ]
    }
   ],
   "source": [
    "result = query_articles(qa_chain, '''List all titles of my articles on photon+ b or/and c jet production. ''')\n",
    "\n",
    "print(result['answer'])\n",
    "print(f\"Sources: {result['sources']}\")"
   ]
  },
  {
   "cell_type": "code",
   "execution_count": null,
   "id": "f2cfd152-3976-4ab7-95ef-3f228ea86faf",
   "metadata": {},
   "outputs": [],
   "source": []
  }
 ],
 "metadata": {
  "kernelspec": {
   "display_name": "langchain",
   "language": "python",
   "name": "langchain"
  },
  "language_info": {
   "codemirror_mode": {
    "name": "ipython",
    "version": 3
   },
   "file_extension": ".py",
   "mimetype": "text/x-python",
   "name": "python",
   "nbconvert_exporter": "python",
   "pygments_lexer": "ipython3",
   "version": "3.10.9"
  }
 },
 "nbformat": 4,
 "nbformat_minor": 5
}
